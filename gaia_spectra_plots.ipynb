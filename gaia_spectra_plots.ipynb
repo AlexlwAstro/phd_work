{
 "cells": [
  {
   "cell_type": "code",
   "execution_count": 9,
   "metadata": {
    "collapsed": false
   },
   "outputs": [
    {
     "name": "stdout",
     "output_type": "stream",
     "text": [
      "modules loaded & functions compiled\n"
     ]
    }
   ],
   "source": [
    "%matplotlib inline\n",
    "from matplotlib import pyplot as plt\n",
    "from matplotlib import colors as clr\n",
    "import numpy as np\n",
    "import sys\n",
    "import re\n",
    "import fileinput\n",
    "\n",
    "# function to change OUTPUT file into space-separated float fields and parameterise the data using this new format\n",
    "# line in 'with open' bit is type 'str'\n",
    "\n",
    "# create a function to get spectral grid data\n",
    "bound_inds = []\n",
    "oldstr = ['0-','1-','2-','3-','4-','5-','6-','7-','8-','9-']\n",
    "newstr = ['0 -','1 -','2 -','3 -','4 -','5 -','6 -','7 -','8 -','9 -']\n",
    "\n",
    "def data_read_gaia(f):\n",
    "    missed_line_inds = []\n",
    "    temp_data = []\n",
    "    temp_rad_zone_data = []\n",
    "    check = 0\n",
    "    #number of lines to cut = number of line containing 'convective shell' label - (2 + any additional string lines)\n",
    "    for line in f:\n",
    "        for i in range(len(oldstr)):\n",
    "            line = line.replace(oldstr[i],newstr[i])\n",
    "        check = check + 1\n",
    "        for x in range(4,1,-1):\n",
    "            line = line.replace((x*' '),' ')\n",
    "        line = line.replace('D','E')\n",
    "        match_ast = re.search('[**]', line)\n",
    "        match_inf = re.search('Infinity',line)\n",
    "        if match_ast or match_inf or (line.strip()==''):\n",
    "            missed_line_inds.append(check)\n",
    "            #continue\n",
    "        else:\n",
    "            file_data = np.array([float(parameter) for parameter in line.strip().split(' ')])\n",
    "            temp_data.append(file_data)\n",
    "    out_all_data = np.array(temp_data)\n",
    "\n",
    "    print 'Total dataset: ',out_all_data.shape\n",
    "    return out_all_data\n",
    "\n",
    "# select the parameter (Teff or log(g) for each array(file)) with which to analyse the filter profiles,\n",
    "# by setting the other to be constant, using the column number (integer)\n",
    "def grid_vals_dict(input_arr,col_numb):\n",
    "    col_vals = []\n",
    "    col_var_arrs = {}\n",
    "    # create list of values of the column NOT being examined\n",
    "    for i in range(len(input_arr[:,(col_numb - 1)])):\n",
    "        if (input_arr[i,(col_numb - 1)] not in col_vals):\n",
    "            col_vals.append(input_arr[i,(col_numb - 1)])\n",
    "    print 'Table column ',col_numb,' values list: ',col_vals\n",
    "    # create arrays for fixed values of col_numb parameter\n",
    "    # by\n",
    "    for j in col_vals:\n",
    "        temp_k_list = []\n",
    "        for k in range(len(input_arr[:,(col_numb - 1)])):\n",
    "            if (input_arr[k,(col_numb - 1)] == j):\n",
    "                temp_k_list.append(input_arr[k,:])\n",
    "        temp_k_array = np.array(temp_k_list)\n",
    "        print 'For column ',col_numb,' value of ',j,', the array has the following shape: ',temp_k_array.shape\n",
    "        col_var_arrs[str(j)] = temp_k_array\n",
    "    print 'Final dictionary length: ',len(col_var_arrs)\n",
    "    return col_var_arrs, col_vals\n",
    "\n",
    "print 'modules loaded & functions compiled'"
   ]
  },
  {
   "cell_type": "code",
   "execution_count": 12,
   "metadata": {
    "collapsed": false
   },
   "outputs": [
    {
     "name": "stdout",
     "output_type": "stream",
     "text": [
      "\n",
      "    Reading A(v) = 0, Z = Zsolar model\n",
      "Total dataset:  (476L, 5L)\n",
      "\n",
      "    Reading A(v) = 1, Z = Zsolar model\n",
      "Total dataset:  (476L, 5L)\n",
      "\n",
      "    Reading A(v) = 0, Z = Zsolar model\n",
      "Total dataset:  (476L, 5L)\n",
      "\n",
      "    Reading A(v) = 0, Z = Zsolar model\n",
      "Total dataset:  (476L, 5L)\n",
      "0.0 5.0\n",
      "0.0 5.0\n",
      "0.0 5.0\n",
      "0.0 5.0\n",
      "Separating A0z2 data into arrays\n",
      "Table column  2  values list:  [0.0, 0.5, 1.0, 1.5, 2.0, 2.5, 3.0, 3.5, 4.0, 4.5, 5.0]\n",
      "For column  2  value of  0.0 , the array has the following shape:  (11L, 5L)\n",
      "For column  2  value of  0.5 , the array has the following shape:  (17L, 5L)\n",
      "For column  2  value of  1.0 , the array has the following shape:  (20L, 5L)\n",
      "For column  2  value of  1.5 , the array has the following shape:  (23L, 5L)\n",
      "For column  2  value of  2.0 , the array has the following shape:  (35L, 5L)\n",
      "For column  2  value of  2.5 , the array has the following shape:  (45L, 5L)\n",
      "For column  2  value of  3.0 , the array has the following shape:  (52L, 5L)\n",
      "For column  2  value of  3.5 , the array has the following shape:  (57L, 5L)\n",
      "For column  2  value of  4.0 , the array has the following shape:  (65L, 5L)\n",
      "For column  2  value of  4.5 , the array has the following shape:  (75L, 5L)\n",
      "For column  2  value of  5.0 , the array has the following shape:  (76L, 5L)\n",
      "Final dictionary length:  11\n",
      "[[  3.50000000e+03   0.00000000e+00  -1.51400000e+00  -2.98600000e+00\n",
      "   -3.94000000e-01]\n",
      " [  3.75000000e+03   0.00000000e+00  -1.36100000e+00  -2.67700000e+00\n",
      "   -2.87000000e-01]\n",
      " [  4.00000000e+03   0.00000000e+00  -1.17200000e+00  -2.34100000e+00\n",
      "   -1.47000000e-01]\n",
      " [  4.25000000e+03   0.00000000e+00  -1.02200000e+00  -2.06100000e+00\n",
      "   -4.80000000e-02]\n",
      " [  4.50000000e+03   0.00000000e+00  -9.10000000e-01  -1.82400000e+00\n",
      "    8.00000000e-03]\n",
      " [  4.75000000e+03   0.00000000e+00  -8.30000000e-01  -1.63000000e+00\n",
      "    2.80000000e-02]\n",
      " [  5.00000000e+03   0.00000000e+00  -7.77000000e-01  -1.48200000e+00\n",
      "    2.60000000e-02]\n",
      " [  5.25000000e+03   0.00000000e+00  -7.42000000e-01  -1.36800000e+00\n",
      "    1.00000000e-02]\n",
      " [  5.50000000e+03   0.00000000e+00  -7.19000000e-01  -1.27900000e+00\n",
      "   -1.50000000e-02]\n",
      " [  5.75000000e+03   0.00000000e+00  -7.05000000e-01  -1.20800000e+00\n",
      "   -4.80000000e-02]\n",
      " [  6.00000000e+03   0.00000000e+00  -6.99000000e-01  -1.14900000e+00\n",
      "   -8.70000000e-02]]\n"
     ]
    }
   ],
   "source": [
    "# N.B.: usiing cgs unit\n",
    "with open (\"gaia_spectra/OUTPUT_A0_zsolar\") as A0zs:\n",
    "    print '\\n    Reading A(v) = 0, Z = Zsolar model'\n",
    "    A0zs_data = data_read_gaia(A0zs)\n",
    "    \n",
    "T_A0zs = A0zs_data[:,0]\n",
    "log_g_A0zs = A0zs_data[:,1]\n",
    "gaia_filter_G_A0zs = A0zs_data[:,2]\n",
    "gaia_filter_G_bp_A0zs = A0zs_data[:,3]\n",
    "gaia_filter_G_rp_A0zs = A0zs_data[:,4]\n",
    "\n",
    "with open (\"gaia_spectra/OUTPUT_A1_zsolar\") as A1zs:\n",
    "    print '\\n    Reading A(v) = 1, Z = Zsolar model'\n",
    "    A1zs_data = data_read_gaia(A1zs)\n",
    "    \n",
    "T_A1zs = A1zs_data[:,0]\n",
    "log_g_A1zs = A1zs_data[:,1]\n",
    "gaia_filter_G_A1zs = A1zs_data[:,2]\n",
    "gaia_filter_G_bp_A1zs = A1zs_data[:,3]\n",
    "gaia_filter_G_rp_A1zs = A1zs_data[:,4]\n",
    "\n",
    "with open (\"gaia_spectra/OUTPUT_A0_z10-2\") as A0z2:\n",
    "    print '\\n    Reading A(v) = 0, Z = Zsolar model'\n",
    "    A0z2_data = data_read_gaia(A0z2)\n",
    "    \n",
    "T_A0z2 = A0z2_data[:,0]\n",
    "log_g_A0z2 = A0z2_data[:,1]\n",
    "gaia_filter_G_A0z2 = A0z2_data[:,2]\n",
    "gaia_filter_G_bp_A0z2 = A0z2_data[:,3]\n",
    "gaia_filter_G_rp_A0z2 = A0z2_data[:,4]\n",
    "    \n",
    "with open (\"gaia_spectra/OUTPUT_A1_z10-2\") as A1z2:\n",
    "    print '\\n    Reading A(v) = 0, Z = Zsolar model'\n",
    "    A1z2_data = data_read_gaia(A1z2)\n",
    "    \n",
    "T_A1z2 = A1z2_data[:,0]\n",
    "log_g_A1z2 = A1z2_data[:,1]\n",
    "gaia_filter_G_A1z2 = A1z2_data[:,2]\n",
    "gaia_filter_G_bp_A1z2 = A1z2_data[:,3]\n",
    "gaia_filter_G_rp_A1z2 = A1z2_data[:,4]\n",
    "\n",
    "print min(log_g_A0zs),max(log_g_A0zs)\n",
    "print min(log_g_A1zs),max(log_g_A1zs)\n",
    "print min(log_g_A0z2),max(log_g_A0z2)\n",
    "print min(log_g_A1z2),max(log_g_A1z2)\n",
    "\n",
    "# Note: Teff is column 1, log(g) is column 2\n",
    "\n",
    "print 'Separating A0z2 data into arrays'\n",
    "A0z2_logg_fix,logg_vals = grid_vals_dict(A1z2_data,2)\n",
    "print A0z2_logg_fix['0.0']"
   ]
  },
  {
   "cell_type": "code",
   "execution_count": 13,
   "metadata": {
    "collapsed": false
   },
   "outputs": [
    {
     "data": {
      "image/png": "[encoded data removed]",
      "text/plain": [
       "<matplotlib.figure.Figure at 0xa6d02b0>"
      ]
     },
     "metadata": {},
     "output_type": "display_data"
    }
   ],
   "source": [
    "fig, ax = plt.subplots()\n",
    "#ax.axhline(y=0.0, color='m', linestyle='--')\n",
    "# Create a continuous norm to map from data points to colors | np.log10((Dthm+1).min()),np.log10((Dthm+1).max())\n",
    "ax.scatter(T_A0zs,log_g_A0zs)\n",
    "ax.set_xlabel('Temperature / $K$')\n",
    "ax.set_ylabel('log($g$ / cm s$^{-2}$)')\n",
    "#ax.set_xlim([0.02, 0.1])\n",
    "#ax.set_ylim([0, 0.1])\n",
    "#plt.show()\n",
    "ax.set_title('gchfhghjjv', y=1.1)\n",
    "fig.savefig('gaia_spectra/gaia_graphs/hgchgftf.png', bbox_inches='tight')"
   ]
  },
  {
   "cell_type": "code",
   "execution_count": null,
   "metadata": {
    "collapsed": true
   },
   "outputs": [],
   "source": []
  }
 ],
 "metadata": {
  "anaconda-cloud": {},
  "kernelspec": {
   "display_name": "Python [default]",
   "language": "python",
   "name": "python2"
  },
  "language_info": {
   "codemirror_mode": {
    "name": "ipython",
    "version": 2
   },
   "file_extension": ".py",
   "mimetype": "text/x-python",
   "name": "python",
   "nbconvert_exporter": "python",
   "pygments_lexer": "ipython2",
   "version": "2.7.12"
  }
 },
 "nbformat": 4,
 "nbformat_minor": 1
}
